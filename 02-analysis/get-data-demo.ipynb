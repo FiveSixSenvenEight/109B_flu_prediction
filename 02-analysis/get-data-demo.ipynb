{
 "cells": [
  {
   "cell_type": "code",
   "execution_count": 1,
   "metadata": {},
   "outputs": [
    {
     "name": "stderr",
     "output_type": "stream",
     "text": [
      "/Users/zihaoxu/ENTER/lib/python3.6/site-packages/h5py/__init__.py:36: FutureWarning: Conversion of the second argument of issubdtype from `float` to `np.floating` is deprecated. In future, it will be treated as `np.float64 == np.dtype(float).type`.\n",
      "  from ._conv import register_converters as _register_converters\n"
     ]
    },
    {
     "name": "stdout",
     "output_type": "stream",
     "text": [
      "2.2.4-tf\n",
      "2.0.0\n"
     ]
    }
   ],
   "source": [
    "from data_creater import *"
   ]
  },
  {
   "cell_type": "code",
   "execution_count": 2,
   "metadata": {},
   "outputs": [
    {
     "name": "stdout",
     "output_type": "stream",
     "text": [
      "(368, 1) (85, 1) (453, 1) (368, 1) (85, 1) (453, 1)\n"
     ]
    }
   ],
   "source": [
    "# Get only TS\n",
    "X_train, X_test, X_all, y_train, y_test, y_all = get_data('Texas', ['TS'], 1, None)\n",
    "print(X_train.shape, X_test.shape, X_all.shape, y_train.shape, y_test.shape, y_all.shape)"
   ]
  },
  {
   "cell_type": "code",
   "execution_count": 3,
   "metadata": {},
   "outputs": [
    {
     "name": "stdout",
     "output_type": "stream",
     "text": [
      "(368, 1) (85, 1) (453, 1) (368, 1) (85, 1) (453, 1)\n"
     ]
    }
   ],
   "source": [
    "# Different target \n",
    "X_train, X_test, X_all, y_train, y_test, y_all = get_data('Texas', ['TS'], 4, None)\n",
    "print(X_train.shape, X_test.shape, X_all.shape, y_train.shape, y_test.shape, y_all.shape)"
   ]
  },
  {
   "cell_type": "code",
   "execution_count": 4,
   "metadata": {},
   "outputs": [
    {
     "name": "stdout",
     "output_type": "stream",
     "text": [
      "(368, 50) (85, 50) (453, 50) (368, 1) (85, 1) (453, 1)\n"
     ]
    }
   ],
   "source": [
    "# Get TS + other states\n",
    "X_train, X_test, X_all, y_train, y_test, y_all = get_data('Texas', ['TS', 'other_states'], 1, None)\n",
    "print(X_train.shape, X_test.shape, X_all.shape, y_train.shape, y_test.shape, y_all.shape)"
   ]
  },
  {
   "cell_type": "code",
   "execution_count": 5,
   "metadata": {},
   "outputs": [
    {
     "name": "stdout",
     "output_type": "stream",
     "text": [
      "(368, 97) (85, 97) (453, 97) (368, 1) (85, 1) (453, 1)\n"
     ]
    }
   ],
   "source": [
    "# Get TS + GT\n",
    "X_train, X_test, X_all, y_train, y_test, y_all = get_data('Texas', ['TS', 'GT'], 1, None)\n",
    "print(X_train.shape, X_test.shape, X_all.shape, y_train.shape, y_test.shape, y_all.shape)"
   ]
  },
  {
   "cell_type": "code",
   "execution_count": 6,
   "metadata": {},
   "outputs": [
    {
     "name": "stdout",
     "output_type": "stream",
     "text": [
      "(368, 146) (85, 146) (453, 146) (368, 1) (85, 1) (453, 1)\n"
     ]
    }
   ],
   "source": [
    "# Get TS + GT + other_states\n",
    "X_train, X_test, X_all, y_train, y_test, y_all = get_data('Texas', ['TS', 'GT', 'other_states'], 1, None)\n",
    "print(X_train.shape, X_test.shape, X_all.shape, y_train.shape, y_test.shape, y_all.shape)"
   ]
  },
  {
   "cell_type": "code",
   "execution_count": 7,
   "metadata": {},
   "outputs": [
    {
     "name": "stdout",
     "output_type": "stream",
     "text": [
      "(368, 3) (85, 3) (453, 3) (368, 1) (85, 1) (453, 1)\n"
     ]
    }
   ],
   "source": [
    "# Get TS + GT + specify other_states\n",
    "X_train, X_test, X_all, y_train, y_test, y_all = get_data('Texas', ['TS', 'other_states'], 1, ['New York', 'California'])\n",
    "print(X_train.shape, X_test.shape, X_all.shape, y_train.shape, y_test.shape, y_all.shape)"
   ]
  }
 ],
 "metadata": {
  "kernelspec": {
   "display_name": "Python 3",
   "language": "python",
   "name": "python3"
  },
  "language_info": {
   "codemirror_mode": {
    "name": "ipython",
    "version": 3
   },
   "file_extension": ".py",
   "mimetype": "text/x-python",
   "name": "python",
   "nbconvert_exporter": "python",
   "pygments_lexer": "ipython3",
   "version": "3.6.7"
  }
 },
 "nbformat": 4,
 "nbformat_minor": 2
}
